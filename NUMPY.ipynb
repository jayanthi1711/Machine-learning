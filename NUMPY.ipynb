{
 "cells": [
  {
   "cell_type": "code",
   "execution_count": 2,
   "id": "928199f6",
   "metadata": {},
   "outputs": [],
   "source": [
    "import numpy as np"
   ]
  },
  {
   "cell_type": "code",
   "execution_count": 2,
   "id": "5dabc1ce",
   "metadata": {},
   "outputs": [],
   "source": [
    "arr1=np.array(6)"
   ]
  },
  {
   "cell_type": "code",
   "execution_count": 3,
   "id": "c825bf16",
   "metadata": {},
   "outputs": [
    {
     "data": {
      "text/plain": [
       "array(6)"
      ]
     },
     "execution_count": 3,
     "metadata": {},
     "output_type": "execute_result"
    }
   ],
   "source": [
    "arr1"
   ]
  },
  {
   "cell_type": "code",
   "execution_count": 5,
   "id": "ed7bcf0e",
   "metadata": {},
   "outputs": [
    {
     "data": {
      "text/plain": [
       "numpy.ndarray"
      ]
     },
     "execution_count": 5,
     "metadata": {},
     "output_type": "execute_result"
    }
   ],
   "source": [
    "type(arr1)"
   ]
  },
  {
   "cell_type": "code",
   "execution_count": 6,
   "id": "22b3a4e9",
   "metadata": {},
   "outputs": [
    {
     "data": {
      "text/plain": [
       "range(0, 6)"
      ]
     },
     "execution_count": 6,
     "metadata": {},
     "output_type": "execute_result"
    }
   ],
   "source": [
    "range(6)"
   ]
  },
  {
   "cell_type": "code",
   "execution_count": 7,
   "id": "629666f4",
   "metadata": {},
   "outputs": [
    {
     "data": {
      "text/plain": [
       "type[array(6)]"
      ]
     },
     "execution_count": 7,
     "metadata": {},
     "output_type": "execute_result"
    }
   ],
   "source": [
    "type[arr1]"
   ]
  },
  {
   "cell_type": "code",
   "execution_count": 8,
   "id": "a597b72f",
   "metadata": {},
   "outputs": [],
   "source": [
    "arr2=np.array([1,2,3,4])"
   ]
  },
  {
   "cell_type": "code",
   "execution_count": 9,
   "id": "b9950cca",
   "metadata": {},
   "outputs": [
    {
     "data": {
      "text/plain": [
       "array([1, 2, 3, 4])"
      ]
     },
     "execution_count": 9,
     "metadata": {},
     "output_type": "execute_result"
    }
   ],
   "source": [
    "arr2"
   ]
  },
  {
   "cell_type": "code",
   "execution_count": 11,
   "id": "2c9f8dce",
   "metadata": {},
   "outputs": [],
   "source": [
    "arr2=np.array([3,2,5,4])"
   ]
  },
  {
   "cell_type": "code",
   "execution_count": 12,
   "id": "fe35384c",
   "metadata": {},
   "outputs": [
    {
     "data": {
      "text/plain": [
       "array([3, 2, 5, 4])"
      ]
     },
     "execution_count": 12,
     "metadata": {},
     "output_type": "execute_result"
    }
   ],
   "source": [
    "arr2"
   ]
  },
  {
   "cell_type": "code",
   "execution_count": 17,
   "id": "a5b5e94f",
   "metadata": {},
   "outputs": [],
   "source": [
    "arr3=np.array([[3,2],[4,5]])"
   ]
  },
  {
   "cell_type": "code",
   "execution_count": 18,
   "id": "e1c1a9d2",
   "metadata": {},
   "outputs": [
    {
     "data": {
      "text/plain": [
       "array([[3, 2],\n",
       "       [4, 5]])"
      ]
     },
     "execution_count": 18,
     "metadata": {},
     "output_type": "execute_result"
    }
   ],
   "source": [
    "arr3"
   ]
  },
  {
   "cell_type": "markdown",
   "id": "d0d923eb",
   "metadata": {},
   "source": [
    "# Array types"
   ]
  },
  {
   "cell_type": "markdown",
   "id": "48f55467",
   "metadata": {},
   "source": [
    "\n",
    "\n",
    "1.zero array\n",
    "2.ones array\n",
    "3.empty array\n",
    "4.array for range"
   ]
  },
  {
   "cell_type": "code",
   "execution_count": 21,
   "id": "6439cc27",
   "metadata": {},
   "outputs": [],
   "source": [
    "zero_array=np.zeros(2)"
   ]
  },
  {
   "cell_type": "code",
   "execution_count": 22,
   "id": "be50acf5",
   "metadata": {},
   "outputs": [
    {
     "data": {
      "text/plain": [
       "array([0., 0.])"
      ]
     },
     "execution_count": 22,
     "metadata": {},
     "output_type": "execute_result"
    }
   ],
   "source": [
    "zero_array"
   ]
  },
  {
   "cell_type": "code",
   "execution_count": 23,
   "id": "01b8171e",
   "metadata": {},
   "outputs": [],
   "source": [
    "zero_array=np.zeros((2,2))"
   ]
  },
  {
   "cell_type": "code",
   "execution_count": 24,
   "id": "fb0be246",
   "metadata": {},
   "outputs": [
    {
     "data": {
      "text/plain": [
       "array([[0., 0.],\n",
       "       [0., 0.]])"
      ]
     },
     "execution_count": 24,
     "metadata": {},
     "output_type": "execute_result"
    }
   ],
   "source": [
    "zero_array"
   ]
  },
  {
   "cell_type": "code",
   "execution_count": 25,
   "id": "0308757a",
   "metadata": {},
   "outputs": [],
   "source": [
    "ones_array=np.ones(4)"
   ]
  },
  {
   "cell_type": "code",
   "execution_count": 26,
   "id": "23d891a2",
   "metadata": {},
   "outputs": [
    {
     "data": {
      "text/plain": [
       "array([1., 1., 1., 1.])"
      ]
     },
     "execution_count": 26,
     "metadata": {},
     "output_type": "execute_result"
    }
   ],
   "source": [
    "ones_array"
   ]
  },
  {
   "cell_type": "code",
   "execution_count": 28,
   "id": "678f2bee",
   "metadata": {},
   "outputs": [],
   "source": [
    "ones_array=np.ones((4,3))"
   ]
  },
  {
   "cell_type": "code",
   "execution_count": 29,
   "id": "d3e83000",
   "metadata": {},
   "outputs": [
    {
     "data": {
      "text/plain": [
       "array([[1., 1., 1.],\n",
       "       [1., 1., 1.],\n",
       "       [1., 1., 1.],\n",
       "       [1., 1., 1.]])"
      ]
     },
     "execution_count": 29,
     "metadata": {},
     "output_type": "execute_result"
    }
   ],
   "source": [
    "ones_array"
   ]
  },
  {
   "cell_type": "code",
   "execution_count": 35,
   "id": "0a57cc43",
   "metadata": {},
   "outputs": [],
   "source": [
    "arr4=np.arange(6)"
   ]
  },
  {
   "cell_type": "code",
   "execution_count": 36,
   "id": "1a344c24",
   "metadata": {},
   "outputs": [
    {
     "data": {
      "text/plain": [
       "array([0, 1, 2, 3, 4, 5])"
      ]
     },
     "execution_count": 36,
     "metadata": {},
     "output_type": "execute_result"
    }
   ],
   "source": [
    "arr4"
   ]
  },
  {
   "cell_type": "code",
   "execution_count": 37,
   "id": "cf1dd3dd",
   "metadata": {},
   "outputs": [
    {
     "data": {
      "text/plain": [
       "array([0, 1, 2, 3, 4, 5])"
      ]
     },
     "execution_count": 37,
     "metadata": {},
     "output_type": "execute_result"
    }
   ],
   "source": [
    "np.arange(6)"
   ]
  },
  {
   "cell_type": "code",
   "execution_count": 38,
   "id": "5800ea72",
   "metadata": {},
   "outputs": [],
   "source": [
    "arr4=np.arange(2,18,2)"
   ]
  },
  {
   "cell_type": "code",
   "execution_count": 39,
   "id": "ddfed307",
   "metadata": {},
   "outputs": [
    {
     "data": {
      "text/plain": [
       "array([ 2,  4,  6,  8, 10, 12, 14, 16])"
      ]
     },
     "execution_count": 39,
     "metadata": {},
     "output_type": "execute_result"
    }
   ],
   "source": [
    "arr4"
   ]
  },
  {
   "cell_type": "markdown",
   "id": "59a0cd81",
   "metadata": {},
   "source": [
    "# Transpose"
   ]
  },
  {
   "cell_type": "code",
   "execution_count": 42,
   "id": "4f7396f9",
   "metadata": {},
   "outputs": [],
   "source": [
    "arr5=np.array([[3,2,1],[4,5,3]])"
   ]
  },
  {
   "cell_type": "code",
   "execution_count": 43,
   "id": "e7851e52",
   "metadata": {},
   "outputs": [
    {
     "data": {
      "text/plain": [
       "array([[3, 2, 1],\n",
       "       [4, 5, 3]])"
      ]
     },
     "execution_count": 43,
     "metadata": {},
     "output_type": "execute_result"
    }
   ],
   "source": [
    "arr5"
   ]
  },
  {
   "cell_type": "code",
   "execution_count": 44,
   "id": "21378dfe",
   "metadata": {},
   "outputs": [],
   "source": [
    "arr5=np.transpose(arr5)"
   ]
  },
  {
   "cell_type": "code",
   "execution_count": 45,
   "id": "98fc314b",
   "metadata": {},
   "outputs": [
    {
     "data": {
      "text/plain": [
       "array([[3, 4],\n",
       "       [2, 5],\n",
       "       [1, 3]])"
      ]
     },
     "execution_count": 45,
     "metadata": {},
     "output_type": "execute_result"
    }
   ],
   "source": [
    "arr5"
   ]
  },
  {
   "cell_type": "code",
   "execution_count": 48,
   "id": "603ea261",
   "metadata": {},
   "outputs": [],
   "source": [
    "arr6=np.ravel(arr5)"
   ]
  },
  {
   "cell_type": "code",
   "execution_count": 49,
   "id": "0e6f467c",
   "metadata": {},
   "outputs": [
    {
     "data": {
      "text/plain": [
       "array([3, 4, 2, 5, 1, 3])"
      ]
     },
     "execution_count": 49,
     "metadata": {},
     "output_type": "execute_result"
    }
   ],
   "source": [
    "arr6"
   ]
  },
  {
   "cell_type": "markdown",
   "id": "55be15f5",
   "metadata": {},
   "source": [
    "# Concatenate\n"
   ]
  },
  {
   "cell_type": "code",
   "execution_count": 50,
   "id": "62ee9faf",
   "metadata": {},
   "outputs": [],
   "source": [
    "a1=np.array([2,3])\n",
    "a2=np.array([4,5])"
   ]
  },
  {
   "cell_type": "code",
   "execution_count": 51,
   "id": "1c221114",
   "metadata": {},
   "outputs": [
    {
     "data": {
      "text/plain": [
       "array([2, 3])"
      ]
     },
     "execution_count": 51,
     "metadata": {},
     "output_type": "execute_result"
    }
   ],
   "source": [
    "a1"
   ]
  },
  {
   "cell_type": "code",
   "execution_count": 52,
   "id": "a7b4af0a",
   "metadata": {},
   "outputs": [
    {
     "data": {
      "text/plain": [
       "array([4, 5])"
      ]
     },
     "execution_count": 52,
     "metadata": {},
     "output_type": "execute_result"
    }
   ],
   "source": [
    "a2"
   ]
  },
  {
   "cell_type": "code",
   "execution_count": 53,
   "id": "1dbe4902",
   "metadata": {},
   "outputs": [],
   "source": [
    "concat=np.concatenate([a1,a2])"
   ]
  },
  {
   "cell_type": "code",
   "execution_count": 54,
   "id": "eb261236",
   "metadata": {},
   "outputs": [
    {
     "data": {
      "text/plain": [
       "array([2, 3, 4, 5])"
      ]
     },
     "execution_count": 54,
     "metadata": {},
     "output_type": "execute_result"
    }
   ],
   "source": [
    "concat"
   ]
  },
  {
   "cell_type": "code",
   "execution_count": 55,
   "id": "2065f35b",
   "metadata": {},
   "outputs": [],
   "source": [
    "hori=np.hstack((a1,a2))"
   ]
  },
  {
   "cell_type": "code",
   "execution_count": 56,
   "id": "88ca30cd",
   "metadata": {},
   "outputs": [
    {
     "data": {
      "text/plain": [
       "array([2, 3, 4, 5])"
      ]
     },
     "execution_count": 56,
     "metadata": {},
     "output_type": "execute_result"
    }
   ],
   "source": [
    "hori"
   ]
  },
  {
   "cell_type": "code",
   "execution_count": 65,
   "id": "e647c9c1",
   "metadata": {},
   "outputs": [],
   "source": [
    "ver=np.vstack((a1,a2))"
   ]
  },
  {
   "cell_type": "code",
   "execution_count": 66,
   "id": "71c86a1a",
   "metadata": {},
   "outputs": [
    {
     "data": {
      "text/plain": [
       "array([[2, 3, 4],\n",
       "       [4, 6, 7]])"
      ]
     },
     "execution_count": 66,
     "metadata": {},
     "output_type": "execute_result"
    }
   ],
   "source": [
    "ver"
   ]
  },
  {
   "cell_type": "code",
   "execution_count": 67,
   "id": "26d716e2",
   "metadata": {},
   "outputs": [],
   "source": [
    "a1=np.array([2,\n",
    "            3,\n",
    "            4])\n",
    "a2=np.array([4,\n",
    "            6,\n",
    "            7])"
   ]
  },
  {
   "cell_type": "code",
   "execution_count": 68,
   "id": "7926bec7",
   "metadata": {},
   "outputs": [],
   "source": [
    "hori=np.hstack((a1,a2))"
   ]
  },
  {
   "cell_type": "code",
   "execution_count": 69,
   "id": "7129eb5c",
   "metadata": {},
   "outputs": [
    {
     "data": {
      "text/plain": [
       "array([2, 3, 4, 4, 6, 7])"
      ]
     },
     "execution_count": 69,
     "metadata": {},
     "output_type": "execute_result"
    }
   ],
   "source": [
    "hori"
   ]
  },
  {
   "cell_type": "code",
   "execution_count": 70,
   "id": "eacf8000",
   "metadata": {},
   "outputs": [],
   "source": [
    "ver=np.vstack((a1,a2))"
   ]
  },
  {
   "cell_type": "code",
   "execution_count": 71,
   "id": "0a28209b",
   "metadata": {},
   "outputs": [
    {
     "data": {
      "text/plain": [
       "array([[2, 3, 4],\n",
       "       [4, 6, 7]])"
      ]
     },
     "execution_count": 71,
     "metadata": {},
     "output_type": "execute_result"
    }
   ],
   "source": [
    "ver"
   ]
  },
  {
   "cell_type": "markdown",
   "id": "b41eeb13",
   "metadata": {},
   "source": [
    "# Determinant"
   ]
  },
  {
   "cell_type": "code",
   "execution_count": 19,
   "id": "93b56fb4",
   "metadata": {},
   "outputs": [],
   "source": [
    "mat1=np.array([[4,2,3],[6,3,1],[0,2,5]])"
   ]
  },
  {
   "cell_type": "code",
   "execution_count": 20,
   "id": "737ec1f4",
   "metadata": {},
   "outputs": [
    {
     "data": {
      "text/plain": [
       "array([[4, 2, 3],\n",
       "       [6, 3, 1],\n",
       "       [0, 2, 5]])"
      ]
     },
     "execution_count": 20,
     "metadata": {},
     "output_type": "execute_result"
    }
   ],
   "source": [
    "mat1"
   ]
  },
  {
   "cell_type": "code",
   "execution_count": 21,
   "id": "2f517248",
   "metadata": {},
   "outputs": [],
   "source": [
    "det_of_mat1=np.linalg.det(mat1)"
   ]
  },
  {
   "cell_type": "code",
   "execution_count": 22,
   "id": "ec9ade59",
   "metadata": {},
   "outputs": [
    {
     "data": {
      "text/plain": [
       "28.00000000000001"
      ]
     },
     "execution_count": 22,
     "metadata": {},
     "output_type": "execute_result"
    }
   ],
   "source": [
    "det_of_mat1"
   ]
  },
  {
   "cell_type": "markdown",
   "id": "24c6e66a",
   "metadata": {},
   "source": [
    "# Inverse"
   ]
  },
  {
   "cell_type": "code",
   "execution_count": 26,
   "id": "f61b7444",
   "metadata": {},
   "outputs": [],
   "source": [
    "inverse=np.linalg.inv(mat1)"
   ]
  },
  {
   "cell_type": "code",
   "execution_count": 27,
   "id": "81ec09c6",
   "metadata": {},
   "outputs": [
    {
     "data": {
      "text/plain": [
       "array([[ 0.46428571, -0.14285714, -0.25      ],\n",
       "       [-1.07142857,  0.71428571,  0.5       ],\n",
       "       [ 0.42857143, -0.28571429,  0.        ]])"
      ]
     },
     "execution_count": 27,
     "metadata": {},
     "output_type": "execute_result"
    }
   ],
   "source": [
    "inverse"
   ]
  },
  {
   "cell_type": "code",
   "execution_count": 28,
   "id": "a35da090",
   "metadata": {},
   "outputs": [],
   "source": [
    "dense=np.array([[0,0,2,3],[1,0,3,0],[0,0,0,5],[0,4,7,0]])"
   ]
  },
  {
   "cell_type": "code",
   "execution_count": 29,
   "id": "a6439f02",
   "metadata": {},
   "outputs": [
    {
     "data": {
      "text/plain": [
       "array([[0, 0, 2, 3],\n",
       "       [1, 0, 3, 0],\n",
       "       [0, 0, 0, 5],\n",
       "       [0, 4, 7, 0]])"
      ]
     },
     "execution_count": 29,
     "metadata": {},
     "output_type": "execute_result"
    }
   ],
   "source": [
    "dense"
   ]
  },
  {
   "cell_type": "markdown",
   "id": "526a6b49",
   "metadata": {},
   "source": [
    "# Sparse Matrix"
   ]
  },
  {
   "cell_type": "code",
   "execution_count": 36,
   "id": "2b090147",
   "metadata": {},
   "outputs": [],
   "source": [
    "from scipy.sparse import csr_matrix"
   ]
  },
  {
   "cell_type": "code",
   "execution_count": 37,
   "id": "87626992",
   "metadata": {},
   "outputs": [],
   "source": [
    "sparse=csr_matrix(dense)"
   ]
  },
  {
   "cell_type": "code",
   "execution_count": 38,
   "id": "2bb42efa",
   "metadata": {},
   "outputs": [
    {
     "data": {
      "text/plain": [
       "<4x4 sparse matrix of type '<class 'numpy.intc'>'\n",
       "\twith 7 stored elements in Compressed Sparse Row format>"
      ]
     },
     "execution_count": 38,
     "metadata": {},
     "output_type": "execute_result"
    }
   ],
   "source": [
    "sparse"
   ]
  },
  {
   "cell_type": "code",
   "execution_count": 39,
   "id": "ab6143ee",
   "metadata": {},
   "outputs": [
    {
     "name": "stdout",
     "output_type": "stream",
     "text": [
      "  (0, 2)\t2\n",
      "  (0, 3)\t3\n",
      "  (1, 0)\t1\n",
      "  (1, 2)\t3\n",
      "  (2, 3)\t5\n",
      "  (3, 1)\t4\n",
      "  (3, 2)\t7\n"
     ]
    }
   ],
   "source": [
    "print(sparse)"
   ]
  },
  {
   "cell_type": "code",
   "execution_count": null,
   "id": "0f44f266",
   "metadata": {},
   "outputs": [],
   "source": []
  }
 ],
 "metadata": {
  "kernelspec": {
   "display_name": "Python 3 (ipykernel)",
   "language": "python",
   "name": "python3"
  },
  "language_info": {
   "codemirror_mode": {
    "name": "ipython",
    "version": 3
   },
   "file_extension": ".py",
   "mimetype": "text/x-python",
   "name": "python",
   "nbconvert_exporter": "python",
   "pygments_lexer": "ipython3",
   "version": "3.11.5"
  }
 },
 "nbformat": 4,
 "nbformat_minor": 5
}
