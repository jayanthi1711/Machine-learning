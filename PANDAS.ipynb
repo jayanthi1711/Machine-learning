{
 "cells": [
  {
   "cell_type": "code",
   "execution_count": 1,
   "id": "3f2d8984",
   "metadata": {},
   "outputs": [],
   "source": [
    "import pandas as pd"
   ]
  },
  {
   "cell_type": "code",
   "execution_count": 2,
   "id": "2d59cd77",
   "metadata": {},
   "outputs": [
    {
     "data": {
      "text/plain": [
       "'2.2.2'"
      ]
     },
     "execution_count": 2,
     "metadata": {},
     "output_type": "execute_result"
    }
   ],
   "source": [
    "pd.__version__"
   ]
  },
  {
   "cell_type": "markdown",
   "id": "f6c591c2",
   "metadata": {},
   "source": [
    "# Series"
   ]
  },
  {
   "cell_type": "code",
   "execution_count": 3,
   "id": "0059c8c4",
   "metadata": {},
   "outputs": [],
   "source": [
    "s1=pd.Series([3,4,2,5,'six'],index=['a','p','j','m','b']),"
   ]
  },
  {
   "cell_type": "code",
   "execution_count": 4,
   "id": "d257cfbc",
   "metadata": {},
   "outputs": [
    {
     "data": {
      "text/plain": [
       "(a      3\n",
       " p      4\n",
       " j      2\n",
       " m      5\n",
       " b    six\n",
       " dtype: object,)"
      ]
     },
     "execution_count": 4,
     "metadata": {},
     "output_type": "execute_result"
    }
   ],
   "source": [
    "s1"
   ]
  },
  {
   "cell_type": "code",
   "execution_count": 5,
   "id": "ad891ea5",
   "metadata": {},
   "outputs": [],
   "source": [
    "s2=pd.Series(['days','sunday','monday','tuesday','wednesday'],index=['date',1,2,3,4])"
   ]
  },
  {
   "cell_type": "code",
   "execution_count": 6,
   "id": "f05ab0cb",
   "metadata": {
    "scrolled": true
   },
   "outputs": [
    {
     "data": {
      "text/plain": [
       "date         days\n",
       "1          sunday\n",
       "2          monday\n",
       "3         tuesday\n",
       "4       wednesday\n",
       "dtype: object"
      ]
     },
     "execution_count": 6,
     "metadata": {},
     "output_type": "execute_result"
    }
   ],
   "source": [
    "s2"
   ]
  },
  {
   "cell_type": "code",
   "execution_count": 17,
   "id": "12ce3a12",
   "metadata": {},
   "outputs": [],
   "source": [
    "s3=pd.Series(['months','january','feburary','march','april'],index=['date',1,2,3,4])"
   ]
  },
  {
   "cell_type": "code",
   "execution_count": 18,
   "id": "3260d319",
   "metadata": {},
   "outputs": [
    {
     "data": {
      "text/plain": [
       "date      months\n",
       "1        january\n",
       "2       feburary\n",
       "3          march\n",
       "4          april\n",
       "dtype: object"
      ]
     },
     "execution_count": 18,
     "metadata": {},
     "output_type": "execute_result"
    }
   ],
   "source": [
    "s3"
   ]
  },
  {
   "cell_type": "markdown",
   "id": "863ecd7c",
   "metadata": {},
   "source": [
    "# Data Frame"
   ]
  },
  {
   "cell_type": "markdown",
   "id": "d73c2d10",
   "metadata": {},
   "source": [
    "DETAIL=pd.DataFrame(series,column=[column name])"
   ]
  },
  {
   "cell_type": "code",
   "execution_count": 19,
   "id": "c54b308d",
   "metadata": {},
   "outputs": [],
   "source": [
    "df1=pd.DataFrame(s2,columns=['days in a weeek'])"
   ]
  },
  {
   "cell_type": "code",
   "execution_count": 20,
   "id": "68598db7",
   "metadata": {},
   "outputs": [
    {
     "data": {
      "text/html": [
       "<div>\n",
       "<style scoped>\n",
       "    .dataframe tbody tr th:only-of-type {\n",
       "        vertical-align: middle;\n",
       "    }\n",
       "\n",
       "    .dataframe tbody tr th {\n",
       "        vertical-align: top;\n",
       "    }\n",
       "\n",
       "    .dataframe thead th {\n",
       "        text-align: right;\n",
       "    }\n",
       "</style>\n",
       "<table border=\"1\" class=\"dataframe\">\n",
       "  <thead>\n",
       "    <tr style=\"text-align: right;\">\n",
       "      <th></th>\n",
       "      <th>days in a weeek</th>\n",
       "    </tr>\n",
       "  </thead>\n",
       "  <tbody>\n",
       "    <tr>\n",
       "      <th>date</th>\n",
       "      <td>days</td>\n",
       "    </tr>\n",
       "    <tr>\n",
       "      <th>1</th>\n",
       "      <td>sunday</td>\n",
       "    </tr>\n",
       "    <tr>\n",
       "      <th>2</th>\n",
       "      <td>monday</td>\n",
       "    </tr>\n",
       "    <tr>\n",
       "      <th>3</th>\n",
       "      <td>tuesday</td>\n",
       "    </tr>\n",
       "    <tr>\n",
       "      <th>4</th>\n",
       "      <td>wednesday</td>\n",
       "    </tr>\n",
       "  </tbody>\n",
       "</table>\n",
       "</div>"
      ],
      "text/plain": [
       "     days in a weeek\n",
       "date            days\n",
       "1             sunday\n",
       "2             monday\n",
       "3            tuesday\n",
       "4          wednesday"
      ]
     },
     "execution_count": 20,
     "metadata": {},
     "output_type": "execute_result"
    }
   ],
   "source": [
    "df1"
   ]
  },
  {
   "cell_type": "code",
   "execution_count": 21,
   "id": "db767eb3",
   "metadata": {},
   "outputs": [],
   "source": [
    "df1['months']=s3"
   ]
  },
  {
   "cell_type": "code",
   "execution_count": 22,
   "id": "dce6afec",
   "metadata": {},
   "outputs": [
    {
     "data": {
      "text/html": [
       "<div>\n",
       "<style scoped>\n",
       "    .dataframe tbody tr th:only-of-type {\n",
       "        vertical-align: middle;\n",
       "    }\n",
       "\n",
       "    .dataframe tbody tr th {\n",
       "        vertical-align: top;\n",
       "    }\n",
       "\n",
       "    .dataframe thead th {\n",
       "        text-align: right;\n",
       "    }\n",
       "</style>\n",
       "<table border=\"1\" class=\"dataframe\">\n",
       "  <thead>\n",
       "    <tr style=\"text-align: right;\">\n",
       "      <th></th>\n",
       "      <th>days in a weeek</th>\n",
       "      <th>months</th>\n",
       "    </tr>\n",
       "  </thead>\n",
       "  <tbody>\n",
       "    <tr>\n",
       "      <th>date</th>\n",
       "      <td>days</td>\n",
       "      <td>months</td>\n",
       "    </tr>\n",
       "    <tr>\n",
       "      <th>1</th>\n",
       "      <td>sunday</td>\n",
       "      <td>january</td>\n",
       "    </tr>\n",
       "    <tr>\n",
       "      <th>2</th>\n",
       "      <td>monday</td>\n",
       "      <td>feburary</td>\n",
       "    </tr>\n",
       "    <tr>\n",
       "      <th>3</th>\n",
       "      <td>tuesday</td>\n",
       "      <td>march</td>\n",
       "    </tr>\n",
       "    <tr>\n",
       "      <th>4</th>\n",
       "      <td>wednesday</td>\n",
       "      <td>april</td>\n",
       "    </tr>\n",
       "  </tbody>\n",
       "</table>\n",
       "</div>"
      ],
      "text/plain": [
       "     days in a weeek    months\n",
       "date            days    months\n",
       "1             sunday   january\n",
       "2             monday  feburary\n",
       "3            tuesday     march\n",
       "4          wednesday     april"
      ]
     },
     "execution_count": 22,
     "metadata": {},
     "output_type": "execute_result"
    }
   ],
   "source": [
    "df1"
   ]
  },
  {
   "cell_type": "markdown",
   "id": "cc277690",
   "metadata": {},
   "source": [
    "# df2"
   ]
  },
  {
   "cell_type": "code",
   "execution_count": 23,
   "id": "5ffa2f17",
   "metadata": {},
   "outputs": [],
   "source": [
    "fruits={'seed':{1:'orange',2:'apple',3:'watermelom'},'seedless':{1:'pineapple',2:'papaya',3:'grapes'}}"
   ]
  },
  {
   "cell_type": "code",
   "execution_count": 24,
   "id": "5663eae2",
   "metadata": {},
   "outputs": [
    {
     "data": {
      "text/plain": [
       "{'seed': {1: 'orange', 2: 'apple', 3: 'watermelom'},\n",
       " 'seedless': {1: 'pineapple', 2: 'papaya', 3: 'grapes'}}"
      ]
     },
     "execution_count": 24,
     "metadata": {},
     "output_type": "execute_result"
    }
   ],
   "source": [
    "fruits"
   ]
  },
  {
   "cell_type": "code",
   "execution_count": 25,
   "id": "17d3a13a",
   "metadata": {},
   "outputs": [],
   "source": [
    "df2=pd.DataFrame(fruits,columns=['seed','seedless'])"
   ]
  },
  {
   "cell_type": "code",
   "execution_count": 26,
   "id": "61fc9613",
   "metadata": {},
   "outputs": [
    {
     "data": {
      "text/html": [
       "<div>\n",
       "<style scoped>\n",
       "    .dataframe tbody tr th:only-of-type {\n",
       "        vertical-align: middle;\n",
       "    }\n",
       "\n",
       "    .dataframe tbody tr th {\n",
       "        vertical-align: top;\n",
       "    }\n",
       "\n",
       "    .dataframe thead th {\n",
       "        text-align: right;\n",
       "    }\n",
       "</style>\n",
       "<table border=\"1\" class=\"dataframe\">\n",
       "  <thead>\n",
       "    <tr style=\"text-align: right;\">\n",
       "      <th></th>\n",
       "      <th>seed</th>\n",
       "      <th>seedless</th>\n",
       "    </tr>\n",
       "  </thead>\n",
       "  <tbody>\n",
       "    <tr>\n",
       "      <th>1</th>\n",
       "      <td>orange</td>\n",
       "      <td>pineapple</td>\n",
       "    </tr>\n",
       "    <tr>\n",
       "      <th>2</th>\n",
       "      <td>apple</td>\n",
       "      <td>papaya</td>\n",
       "    </tr>\n",
       "    <tr>\n",
       "      <th>3</th>\n",
       "      <td>watermelom</td>\n",
       "      <td>grapes</td>\n",
       "    </tr>\n",
       "  </tbody>\n",
       "</table>\n",
       "</div>"
      ],
      "text/plain": [
       "         seed   seedless\n",
       "1      orange  pineapple\n",
       "2       apple     papaya\n",
       "3  watermelom     grapes"
      ]
     },
     "execution_count": 26,
     "metadata": {},
     "output_type": "execute_result"
    }
   ],
   "source": [
    "df2"
   ]
  },
  {
   "cell_type": "code",
   "execution_count": 35,
   "id": "e89d016e",
   "metadata": {},
   "outputs": [],
   "source": [
    "classes={\"student names\":{1:\"sheela\",2:\"priya\",3:\"maha\",4:\"meena\",5:\"jayanthi\"},\"reg.no\":{1:3258,2:2859,3:2864,4:3789,5:6758},\"year of study\":{1:\"first\",2:\"second\",3:\"third\",4:\"fourth\",5:\"fifth\"},\"age\":{1:18,2:19,3:20,4:21,5:22}}"
   ]
  },
  {
   "cell_type": "code",
   "execution_count": 36,
   "id": "df556ace",
   "metadata": {},
   "outputs": [
    {
     "data": {
      "text/plain": [
       "{'student names': {1: 'sheela',\n",
       "  2: 'priya',\n",
       "  3: 'maha',\n",
       "  4: 'meena',\n",
       "  5: 'jayanthi'},\n",
       " 'reg.no': {1: 3258, 2: 2859, 3: 2864, 4: 3789, 5: 6758},\n",
       " 'year of study': {1: 'first',\n",
       "  2: 'second',\n",
       "  3: 'third',\n",
       "  4: 'fourth',\n",
       "  5: 'fifth'},\n",
       " 'age': {1: 18, 2: 19, 3: 20, 4: 21, 5: 22}}"
      ]
     },
     "execution_count": 36,
     "metadata": {},
     "output_type": "execute_result"
    }
   ],
   "source": [
    "classes"
   ]
  },
  {
   "cell_type": "code",
   "execution_count": 39,
   "id": "dda0934b",
   "metadata": {},
   "outputs": [],
   "source": [
    "df3=pd.DataFrame(classes,columns=[\"student names\",\"reg.no\",\"year of study\",\"age\"])"
   ]
  },
  {
   "cell_type": "code",
   "execution_count": 40,
   "id": "17bd2cf6",
   "metadata": {},
   "outputs": [
    {
     "data": {
      "text/html": [
       "<div>\n",
       "<style scoped>\n",
       "    .dataframe tbody tr th:only-of-type {\n",
       "        vertical-align: middle;\n",
       "    }\n",
       "\n",
       "    .dataframe tbody tr th {\n",
       "        vertical-align: top;\n",
       "    }\n",
       "\n",
       "    .dataframe thead th {\n",
       "        text-align: right;\n",
       "    }\n",
       "</style>\n",
       "<table border=\"1\" class=\"dataframe\">\n",
       "  <thead>\n",
       "    <tr style=\"text-align: right;\">\n",
       "      <th></th>\n",
       "      <th>student names</th>\n",
       "      <th>reg.no</th>\n",
       "      <th>year of study</th>\n",
       "      <th>age</th>\n",
       "    </tr>\n",
       "  </thead>\n",
       "  <tbody>\n",
       "    <tr>\n",
       "      <th>1</th>\n",
       "      <td>sheela</td>\n",
       "      <td>3258</td>\n",
       "      <td>first</td>\n",
       "      <td>18</td>\n",
       "    </tr>\n",
       "    <tr>\n",
       "      <th>2</th>\n",
       "      <td>priya</td>\n",
       "      <td>2859</td>\n",
       "      <td>second</td>\n",
       "      <td>19</td>\n",
       "    </tr>\n",
       "    <tr>\n",
       "      <th>3</th>\n",
       "      <td>maha</td>\n",
       "      <td>2864</td>\n",
       "      <td>third</td>\n",
       "      <td>20</td>\n",
       "    </tr>\n",
       "    <tr>\n",
       "      <th>4</th>\n",
       "      <td>meena</td>\n",
       "      <td>3789</td>\n",
       "      <td>fourth</td>\n",
       "      <td>21</td>\n",
       "    </tr>\n",
       "    <tr>\n",
       "      <th>5</th>\n",
       "      <td>jayanthi</td>\n",
       "      <td>6758</td>\n",
       "      <td>fifth</td>\n",
       "      <td>22</td>\n",
       "    </tr>\n",
       "  </tbody>\n",
       "</table>\n",
       "</div>"
      ],
      "text/plain": [
       "  student names  reg.no year of study  age\n",
       "1        sheela    3258         first   18\n",
       "2         priya    2859        second   19\n",
       "3          maha    2864         third   20\n",
       "4         meena    3789        fourth   21\n",
       "5      jayanthi    6758         fifth   22"
      ]
     },
     "execution_count": 40,
     "metadata": {},
     "output_type": "execute_result"
    }
   ],
   "source": [
    "df3"
   ]
  },
  {
   "cell_type": "code",
   "execution_count": 44,
   "id": "6509afd7",
   "metadata": {},
   "outputs": [],
   "source": [
    "classes=df3[\"student names\"]"
   ]
  },
  {
   "cell_type": "code",
   "execution_count": 46,
   "id": "dfb63b77",
   "metadata": {},
   "outputs": [
    {
     "data": {
      "text/plain": [
       "1      sheela\n",
       "2       priya\n",
       "3        maha\n",
       "4       meena\n",
       "5    jayanthi\n",
       "Name: student names, dtype: object"
      ]
     },
     "execution_count": 46,
     "metadata": {},
     "output_type": "execute_result"
    }
   ],
   "source": [
    "classes"
   ]
  },
  {
   "cell_type": "code",
   "execution_count": 48,
   "id": "3c84422f",
   "metadata": {},
   "outputs": [
    {
     "data": {
      "text/html": [
       "<div>\n",
       "<style scoped>\n",
       "    .dataframe tbody tr th:only-of-type {\n",
       "        vertical-align: middle;\n",
       "    }\n",
       "\n",
       "    .dataframe tbody tr th {\n",
       "        vertical-align: top;\n",
       "    }\n",
       "\n",
       "    .dataframe thead th {\n",
       "        text-align: right;\n",
       "    }\n",
       "</style>\n",
       "<table border=\"1\" class=\"dataframe\">\n",
       "  <thead>\n",
       "    <tr style=\"text-align: right;\">\n",
       "      <th></th>\n",
       "      <th>student names</th>\n",
       "      <th>reg.no</th>\n",
       "      <th>year of study</th>\n",
       "    </tr>\n",
       "  </thead>\n",
       "  <tbody>\n",
       "    <tr>\n",
       "      <th>1</th>\n",
       "      <td>sheela</td>\n",
       "      <td>3258</td>\n",
       "      <td>first</td>\n",
       "    </tr>\n",
       "    <tr>\n",
       "      <th>2</th>\n",
       "      <td>priya</td>\n",
       "      <td>2859</td>\n",
       "      <td>second</td>\n",
       "    </tr>\n",
       "    <tr>\n",
       "      <th>3</th>\n",
       "      <td>maha</td>\n",
       "      <td>2864</td>\n",
       "      <td>third</td>\n",
       "    </tr>\n",
       "    <tr>\n",
       "      <th>4</th>\n",
       "      <td>meena</td>\n",
       "      <td>3789</td>\n",
       "      <td>fourth</td>\n",
       "    </tr>\n",
       "    <tr>\n",
       "      <th>5</th>\n",
       "      <td>jayanthi</td>\n",
       "      <td>6758</td>\n",
       "      <td>fifth</td>\n",
       "    </tr>\n",
       "  </tbody>\n",
       "</table>\n",
       "</div>"
      ],
      "text/plain": [
       "  student names  reg.no year of study\n",
       "1        sheela    3258         first\n",
       "2         priya    2859        second\n",
       "3          maha    2864         third\n",
       "4         meena    3789        fourth\n",
       "5      jayanthi    6758         fifth"
      ]
     },
     "execution_count": 48,
     "metadata": {},
     "output_type": "execute_result"
    }
   ],
   "source": [
    "df3.drop(\"age\",axis=1)"
   ]
  },
  {
   "cell_type": "code",
   "execution_count": 52,
   "id": "c49f1500",
   "metadata": {},
   "outputs": [
    {
     "data": {
      "text/html": [
       "<div>\n",
       "<style scoped>\n",
       "    .dataframe tbody tr th:only-of-type {\n",
       "        vertical-align: middle;\n",
       "    }\n",
       "\n",
       "    .dataframe tbody tr th {\n",
       "        vertical-align: top;\n",
       "    }\n",
       "\n",
       "    .dataframe thead th {\n",
       "        text-align: right;\n",
       "    }\n",
       "</style>\n",
       "<table border=\"1\" class=\"dataframe\">\n",
       "  <thead>\n",
       "    <tr style=\"text-align: right;\">\n",
       "      <th></th>\n",
       "      <th>student names</th>\n",
       "      <th>reg.no</th>\n",
       "      <th>year of study</th>\n",
       "      <th>age</th>\n",
       "    </tr>\n",
       "  </thead>\n",
       "  <tbody>\n",
       "    <tr>\n",
       "      <th>1</th>\n",
       "      <td>sheela</td>\n",
       "      <td>3258</td>\n",
       "      <td>first</td>\n",
       "      <td>18</td>\n",
       "    </tr>\n",
       "    <tr>\n",
       "      <th>2</th>\n",
       "      <td>priya</td>\n",
       "      <td>2859</td>\n",
       "      <td>second</td>\n",
       "      <td>19</td>\n",
       "    </tr>\n",
       "    <tr>\n",
       "      <th>3</th>\n",
       "      <td>maha</td>\n",
       "      <td>2864</td>\n",
       "      <td>third</td>\n",
       "      <td>20</td>\n",
       "    </tr>\n",
       "    <tr>\n",
       "      <th>4</th>\n",
       "      <td>meena</td>\n",
       "      <td>3789</td>\n",
       "      <td>fourth</td>\n",
       "      <td>21</td>\n",
       "    </tr>\n",
       "  </tbody>\n",
       "</table>\n",
       "</div>"
      ],
      "text/plain": [
       "  student names  reg.no year of study  age\n",
       "1        sheela    3258         first   18\n",
       "2         priya    2859        second   19\n",
       "3          maha    2864         third   20\n",
       "4         meena    3789        fourth   21"
      ]
     },
     "execution_count": 52,
     "metadata": {},
     "output_type": "execute_result"
    }
   ],
   "source": [
    "df3.drop(5,axis=0)"
   ]
  },
  {
   "cell_type": "code",
   "execution_count": null,
   "id": "39ddf228",
   "metadata": {},
   "outputs": [],
   "source": []
  }
 ],
 "metadata": {
  "kernelspec": {
   "display_name": "Python 3 (ipykernel)",
   "language": "python",
   "name": "python3"
  },
  "language_info": {
   "codemirror_mode": {
    "name": "ipython",
    "version": 3
   },
   "file_extension": ".py",
   "mimetype": "text/x-python",
   "name": "python",
   "nbconvert_exporter": "python",
   "pygments_lexer": "ipython3",
   "version": "3.11.5"
  }
 },
 "nbformat": 4,
 "nbformat_minor": 5
}
